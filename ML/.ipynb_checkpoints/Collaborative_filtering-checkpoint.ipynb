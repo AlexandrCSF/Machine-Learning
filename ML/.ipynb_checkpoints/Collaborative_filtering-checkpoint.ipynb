{
 "cells": [
  {
   "cell_type": "code",
   "execution_count": 2,
   "id": "82362a1b",
   "metadata": {},
   "outputs": [
    {
     "ename": "ModuleNotFoundError",
     "evalue": "No module named 'sklearn.keras'",
     "output_type": "error",
     "traceback": [
      "\u001b[1;31m---------------------------------------------------------------------------\u001b[0m",
      "\u001b[1;31mModuleNotFoundError\u001b[0m                       Traceback (most recent call last)",
      "Cell \u001b[1;32mIn[2], line 15\u001b[0m\n\u001b[0;32m     13\u001b[0m \u001b[38;5;28;01mfrom\u001b[39;00m \u001b[38;5;21;01msklearn\u001b[39;00m\u001b[38;5;21;01m.\u001b[39;00m\u001b[38;5;21;01mpreprocessing\u001b[39;00m \u001b[38;5;28;01mimport\u001b[39;00m StandardScaler\n\u001b[0;32m     14\u001b[0m \u001b[38;5;28;01mfrom\u001b[39;00m \u001b[38;5;21;01msklearn\u001b[39;00m\u001b[38;5;21;01m.\u001b[39;00m\u001b[38;5;21;01mmetrics\u001b[39;00m \u001b[38;5;28;01mimport\u001b[39;00m mean_squared_error\n\u001b[1;32m---> 15\u001b[0m \u001b[38;5;28;01mfrom\u001b[39;00m \u001b[38;5;21;01msklearn\u001b[39;00m\u001b[38;5;21;01m.\u001b[39;00m\u001b[38;5;21;01mkeras\u001b[39;00m \u001b[38;5;28;01mimport\u001b[39;00m Sequential\n",
      "\u001b[1;31mModuleNotFoundError\u001b[0m: No module named 'sklearn.keras'"
     ]
    }
   ],
   "source": [
    "import pandas as pd\n",
    "import numpy as np \n",
    "import seaborn as sns\n",
    "%matplotlib inline\n",
    "import matplotlib.pyplot as plt\n",
    "from sklearn.model_selection import cross_validate\n",
    "from sklearn.metrics import mean_squared_error\n",
    "from math import sqrt\n",
    "from  sklearn.metrics.pairwise import pairwise_distances\n",
    "from tensorflow.keras import Sequential\n",
    "import scipy.sparse as sp\n",
    "from scipy.sparse.linalg import svds\n",
    "from sklearn.preprocessing import StandardScaler\n",
    "from sklearn.metrics import mean_squared_error\n",
    "from sklearn.keras import Sequential"
   ]
  },
  {
   "cell_type": "code",
   "execution_count": 64,
   "id": "bafa265d",
   "metadata": {},
   "outputs": [],
   "source": [
    "pd.options.mode.chained_assignment = None"
   ]
  },
  {
   "cell_type": "code",
   "execution_count": 29,
   "id": "c98d556d",
   "metadata": {},
   "outputs": [],
   "source": [
    "dp = pd.read_csv('Data/ratings.csv')"
   ]
  },
  {
   "cell_type": "code",
   "execution_count": 77,
   "id": "7e535379",
   "metadata": {},
   "outputs": [],
   "source": [
    "n = 10000\n",
    "df = dp[:n]\n",
    "n_users = len(df['userId'].unique())\n",
    "n_movies = len(df['movieId'].unique())"
   ]
  },
  {
   "cell_type": "code",
   "execution_count": 78,
   "id": "dc4e14f4",
   "metadata": {},
   "outputs": [
    {
     "data": {
      "text/html": [
       "<div>\n",
       "<style scoped>\n",
       "    .dataframe tbody tr th:only-of-type {\n",
       "        vertical-align: middle;\n",
       "    }\n",
       "\n",
       "    .dataframe tbody tr th {\n",
       "        vertical-align: top;\n",
       "    }\n",
       "\n",
       "    .dataframe thead th {\n",
       "        text-align: right;\n",
       "    }\n",
       "</style>\n",
       "<table border=\"1\" class=\"dataframe\">\n",
       "  <thead>\n",
       "    <tr style=\"text-align: right;\">\n",
       "      <th></th>\n",
       "      <th>userId</th>\n",
       "      <th>movieId</th>\n",
       "      <th>rating</th>\n",
       "      <th>timestamp</th>\n",
       "    </tr>\n",
       "  </thead>\n",
       "  <tbody>\n",
       "    <tr>\n",
       "      <th>0</th>\n",
       "      <td>1</td>\n",
       "      <td>296</td>\n",
       "      <td>5.0</td>\n",
       "      <td>1147880044</td>\n",
       "    </tr>\n",
       "    <tr>\n",
       "      <th>1</th>\n",
       "      <td>1</td>\n",
       "      <td>306</td>\n",
       "      <td>3.5</td>\n",
       "      <td>1147868817</td>\n",
       "    </tr>\n",
       "    <tr>\n",
       "      <th>2</th>\n",
       "      <td>1</td>\n",
       "      <td>307</td>\n",
       "      <td>5.0</td>\n",
       "      <td>1147868828</td>\n",
       "    </tr>\n",
       "    <tr>\n",
       "      <th>3</th>\n",
       "      <td>1</td>\n",
       "      <td>665</td>\n",
       "      <td>5.0</td>\n",
       "      <td>1147878820</td>\n",
       "    </tr>\n",
       "    <tr>\n",
       "      <th>4</th>\n",
       "      <td>1</td>\n",
       "      <td>899</td>\n",
       "      <td>3.5</td>\n",
       "      <td>1147868510</td>\n",
       "    </tr>\n",
       "  </tbody>\n",
       "</table>\n",
       "</div>"
      ],
      "text/plain": [
       "   userId  movieId  rating   timestamp\n",
       "0       1      296     5.0  1147880044\n",
       "1       1      306     3.5  1147868817\n",
       "2       1      307     5.0  1147868828\n",
       "3       1      665     5.0  1147878820\n",
       "4       1      899     3.5  1147868510"
      ]
     },
     "execution_count": 78,
     "metadata": {},
     "output_type": "execute_result"
    }
   ],
   "source": [
    "df.head()"
   ]
  },
  {
   "cell_type": "code",
   "execution_count": 79,
   "id": "185c9520",
   "metadata": {},
   "outputs": [
    {
     "data": {
      "text/plain": [
       "(10000, 4)"
      ]
     },
     "execution_count": 79,
     "metadata": {},
     "output_type": "execute_result"
    }
   ],
   "source": [
    "df.shape"
   ]
  },
  {
   "cell_type": "code",
   "execution_count": 105,
   "id": "bccc5eca",
   "metadata": {},
   "outputs": [
    {
     "data": {
      "text/html": [
       "<div>\n",
       "<style scoped>\n",
       "    .dataframe tbody tr th:only-of-type {\n",
       "        vertical-align: middle;\n",
       "    }\n",
       "\n",
       "    .dataframe tbody tr th {\n",
       "        vertical-align: top;\n",
       "    }\n",
       "\n",
       "    .dataframe thead th {\n",
       "        text-align: right;\n",
       "    }\n",
       "</style>\n",
       "<table border=\"1\" class=\"dataframe\">\n",
       "  <thead>\n",
       "    <tr style=\"text-align: right;\">\n",
       "      <th></th>\n",
       "      <th>userId</th>\n",
       "      <th>movieId</th>\n",
       "      <th>rating</th>\n",
       "      <th>timestamp</th>\n",
       "    </tr>\n",
       "  </thead>\n",
       "  <tbody>\n",
       "    <tr>\n",
       "      <th>0</th>\n",
       "      <td>1</td>\n",
       "      <td>1</td>\n",
       "      <td>5.0</td>\n",
       "      <td>1147880044</td>\n",
       "    </tr>\n",
       "    <tr>\n",
       "      <th>1</th>\n",
       "      <td>1</td>\n",
       "      <td>2</td>\n",
       "      <td>3.5</td>\n",
       "      <td>1147868817</td>\n",
       "    </tr>\n",
       "    <tr>\n",
       "      <th>2</th>\n",
       "      <td>1</td>\n",
       "      <td>3</td>\n",
       "      <td>5.0</td>\n",
       "      <td>1147868828</td>\n",
       "    </tr>\n",
       "    <tr>\n",
       "      <th>3</th>\n",
       "      <td>1</td>\n",
       "      <td>4</td>\n",
       "      <td>5.0</td>\n",
       "      <td>1147878820</td>\n",
       "    </tr>\n",
       "    <tr>\n",
       "      <th>4</th>\n",
       "      <td>1</td>\n",
       "      <td>5</td>\n",
       "      <td>3.5</td>\n",
       "      <td>1147868510</td>\n",
       "    </tr>\n",
       "  </tbody>\n",
       "</table>\n",
       "</div>"
      ],
      "text/plain": [
       "   userId  movieId  rating   timestamp\n",
       "0       1        1     5.0  1147880044\n",
       "1       1        2     3.5  1147868817\n",
       "2       1        3     5.0  1147868828\n",
       "3       1        4     5.0  1147878820\n",
       "4       1        5     3.5  1147868510"
      ]
     },
     "execution_count": 105,
     "metadata": {},
     "output_type": "execute_result"
    }
   ],
   "source": [
    "movie_ids = df['movieId'].unique()\n",
    "\n",
    "df['movieId'] = df['movieId'].apply(scale_movie_id)\n",
    "df.head()"
   ]
  },
  {
   "cell_type": "code",
   "execution_count": 106,
   "id": "7329773b",
   "metadata": {},
   "outputs": [],
   "source": [
    "train_data, test_data = train_test_split(df, test_size=0.2)\n",
    "\n",
    "scaled = StandardScaler()\n",
    "\n",
    "train_data_scaled = scaled.fit_transform(train_data)\n",
    "test_data_scaled = scaled.transform(test_data)"
   ]
  },
  {
   "cell_type": "code",
   "execution_count": 112,
   "id": "b3373e81",
   "metadata": {},
   "outputs": [],
   "source": [
    "train_data_matrix = np.zeros((n_users, n_movies))\n",
    "for line in train_data.itertuples():\n",
    "    train_data_matrix[line[1] - 1, line[2] - 1] = line[3]\n",
    "    \n",
    "test_data_matrix = np.zeros((n_users, n_movies))\n",
    "for line in test_data.itertuples():\n",
    "    test_data_matrix[line[1] - 1, line[2] - 1] = line[3]"
   ]
  },
  {
   "cell_type": "code",
   "execution_count": 113,
   "id": "8932e8bf",
   "metadata": {},
   "outputs": [],
   "source": [
    "user_similarity = pairwise_distances(train_data_matrix, metric='cosine')\n",
    "item_similarity = pairwise_distances(train_data_matrix.T, metric='cosine')\n",
    "content_based_similarity = ''"
   ]
  },
  {
   "cell_type": "code",
   "execution_count": 109,
   "id": "3b4a7499",
   "metadata": {},
   "outputs": [],
   "source": [
    "def k_fract_mean_predict(top):\n",
    "    top_similar = np.zeros((n_users, top))\n",
    "    \n",
    "    for i in range(n_users):\n",
    "        user_sim = user_similarity[i]\n",
    "        top_sim_users = user_sim.argsort()[1:top + 1]\n",
    "\n",
    "        for j in range(top):\n",
    "            top_similar[i, j] = top_sim_users[j]\n",
    "            \n",
    "    abs_sim = np.abs(user_similarity)\n",
    "    pred = np.zeros((n_users, n_movies))\n",
    "    \n",
    "    for i in range(n_users):\n",
    "        indexes = top_similar[i].astype(np.int)\n",
    "        numerator = user_similarity[i][indexes]\n",
    "        \n",
    "        mean_rating = np.array([x for x in train_data_matrix[i] if x > 0]).mean()\n",
    "        diff_ratings = train_data_matrix[indexes] - train_data_matrix[indexes].mean()\n",
    "        numerator = numerator.dot(diff_ratings)\n",
    "        denominator = abs_sim[i][top_similar[i].astype(np.int)].sum()\n",
    "        \n",
    "        pred[i] = mean_rating + numerator / denominator\n",
    "        \n",
    "    return pred\n",
    "\n",
    "def k_fract_mean_predict_item(top):\n",
    "    top_similar = np.zeros((n_movies, top))\n",
    "    \n",
    "    for i in range(n_movies):\n",
    "        movie_sim = item_similarity[i]\n",
    "        top_sim_movies = movie_sim.argsort()[1:top + 1]\n",
    "        \n",
    "        for j in range(top):\n",
    "            top_similar[i, j] = top_sim_movies[j]\n",
    "    \n",
    "    abs_sim = np.abs(item_similarity)\n",
    "    pred = np.zeros((n_movies, n_users))\n",
    "    \n",
    "    for i in range(n_movies):\n",
    "        indexes = top_similar[i].astype(np.int)\n",
    "        numerator = item_similarity[i][indexes]\n",
    "        \n",
    "        diff_ratings = train_data_matrix.T[indexes] - train_data_matrix.T[indexes].mean()\n",
    "        numerator = numerator.dot(diff_ratings)\n",
    "        denominator = abs_sim[i][top_similar[i].astype(np.int)].sum()\n",
    "        denominator = denominator if denominator != 0 else 1\n",
    "        \n",
    "        mean_rating = np.array([x for x in train_data_matrix.T[i] if x > 0]).mean()\n",
    "        mean_rating = 0 if np.isnan(mean_rating) else mean_rating\n",
    "        pred[i] = mean_rating + numerator / denominator\n",
    "                \n",
    "    return pred.T"
   ]
  },
  {
   "cell_type": "code",
   "execution_count": 114,
   "id": "26a0eb08",
   "metadata": {},
   "outputs": [
    {
     "name": "stdout",
     "output_type": "stream",
     "text": [
      "User-based CF MSE: 0.3371445881385398\n"
     ]
    }
   ],
   "source": [
    "u, s, vt = svds(train_data_matrix, k=10)\n",
    "s_diag_matrix = np.diag(s)\n",
    "\n",
    "X_pred = np.dot(np.dot(u, s_diag_matrix), vt)\n",
    "\n",
    "print('User-based CF MSE: ' + str(mean_squared_error(X_pred, test_data_matrix)))"
   ]
  },
  {
   "cell_type": "code",
   "execution_count": null,
   "id": "712b656d",
   "metadata": {},
   "outputs": [],
   "source": [
    "model = Sequential()"
   ]
  }
 ],
 "metadata": {
  "kernelspec": {
   "display_name": "Python 3 (ipykernel)",
   "language": "python",
   "name": "python3"
  },
  "language_info": {
   "codemirror_mode": {
    "name": "ipython",
    "version": 3
   },
   "file_extension": ".py",
   "mimetype": "text/x-python",
   "name": "python",
   "nbconvert_exporter": "python",
   "pygments_lexer": "ipython3",
   "version": "3.9.10"
  }
 },
 "nbformat": 4,
 "nbformat_minor": 5
}
