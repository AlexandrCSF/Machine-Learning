{
 "cells": [
  {
   "cell_type": "code",
   "execution_count": 139,
   "id": "cce9aeef",
   "metadata": {},
   "outputs": [],
   "source": [
    "import pandas as pd\n",
    "import numpy as np\n",
    "from zipfile import ZipFile\n",
    "import tensorflow as tf\n",
    "from tensorflow import keras\n",
    "from tensorflow.keras import layers\n",
    "from pathlib import Path\n",
    "import matplotlib.pyplot as plt\n",
    "from tensorflow.keras import Sequential\n",
    "from sklearn.metrics import mean_squared_error\n",
    "import math"
   ]
  },
  {
   "cell_type": "code",
   "execution_count": 2,
   "id": "126097cc",
   "metadata": {},
   "outputs": [],
   "source": [
    "# Download the actual data from http://files.grouplens.org/datasets/movielens/ml-latest-small.zip\"\n",
    "# Use the ratings.csv file\n",
    "movielens_data_file_url = (\n",
    "    \"http://files.grouplens.org/datasets/movielens/ml-latest-small.zip\"\n",
    ")\n",
    "movielens_zipped_file = keras.utils.get_file(\n",
    "    \"ml-latest-small.zip\", movielens_data_file_url, extract=False\n",
    ")\n",
    "keras_datasets_path = Path(movielens_zipped_file).parents[0]\n",
    "movielens_dir = keras_datasets_path / \"ml-latest-small\"\n",
    "\n",
    "# Only extract the data the first time the script is run.\n",
    "if not movielens_dir.exists():\n",
    "    with ZipFile(movielens_zipped_file, \"r\") as zip:\n",
    "        # Extract files\n",
    "        print(\"Extracting all the files now...\")\n",
    "        zip.extractall(path=keras_datasets_path)\n",
    "        print(\"Done!\")\n",
    "\n",
    "ratings_file = movielens_dir / \"ratings.csv\"\n",
    "df = pd.read_csv(ratings_file)"
   ]
  },
  {
   "cell_type": "code",
   "execution_count": 33,
   "id": "a92baf8a",
   "metadata": {},
   "outputs": [
    {
     "data": {
      "text/html": [
       "<div>\n",
       "<style scoped>\n",
       "    .dataframe tbody tr th:only-of-type {\n",
       "        vertical-align: middle;\n",
       "    }\n",
       "\n",
       "    .dataframe tbody tr th {\n",
       "        vertical-align: top;\n",
       "    }\n",
       "\n",
       "    .dataframe thead th {\n",
       "        text-align: right;\n",
       "    }\n",
       "</style>\n",
       "<table border=\"1\" class=\"dataframe\">\n",
       "  <thead>\n",
       "    <tr style=\"text-align: right;\">\n",
       "      <th></th>\n",
       "      <th>userId</th>\n",
       "      <th>movieId</th>\n",
       "      <th>rating</th>\n",
       "      <th>timestamp</th>\n",
       "      <th>user</th>\n",
       "      <th>movie</th>\n",
       "    </tr>\n",
       "  </thead>\n",
       "  <tbody>\n",
       "    <tr>\n",
       "      <th>67037</th>\n",
       "      <td>432</td>\n",
       "      <td>77866</td>\n",
       "      <td>4.5</td>\n",
       "      <td>1335139641</td>\n",
       "      <td>431</td>\n",
       "      <td>4730</td>\n",
       "    </tr>\n",
       "    <tr>\n",
       "      <th>42175</th>\n",
       "      <td>288</td>\n",
       "      <td>474</td>\n",
       "      <td>3.0</td>\n",
       "      <td>978465565</td>\n",
       "      <td>287</td>\n",
       "      <td>474</td>\n",
       "    </tr>\n",
       "    <tr>\n",
       "      <th>93850</th>\n",
       "      <td>599</td>\n",
       "      <td>4351</td>\n",
       "      <td>3.0</td>\n",
       "      <td>1498524542</td>\n",
       "      <td>598</td>\n",
       "      <td>2631</td>\n",
       "    </tr>\n",
       "    <tr>\n",
       "      <th>6187</th>\n",
       "      <td>42</td>\n",
       "      <td>2987</td>\n",
       "      <td>4.0</td>\n",
       "      <td>996262677</td>\n",
       "      <td>41</td>\n",
       "      <td>194</td>\n",
       "    </tr>\n",
       "    <tr>\n",
       "      <th>12229</th>\n",
       "      <td>75</td>\n",
       "      <td>1610</td>\n",
       "      <td>4.0</td>\n",
       "      <td>1158989841</td>\n",
       "      <td>74</td>\n",
       "      <td>727</td>\n",
       "    </tr>\n",
       "  </tbody>\n",
       "</table>\n",
       "</div>"
      ],
      "text/plain": [
       "       userId  movieId  rating   timestamp  user  movie\n",
       "67037     432    77866     4.5  1335139641   431   4730\n",
       "42175     288      474     3.0   978465565   287    474\n",
       "93850     599     4351     3.0  1498524542   598   2631\n",
       "6187       42     2987     4.0   996262677    41    194\n",
       "12229      75     1610     4.0  1158989841    74    727"
      ]
     },
     "execution_count": 33,
     "metadata": {},
     "output_type": "execute_result"
    }
   ],
   "source": [
    "df.head()"
   ]
  },
  {
   "cell_type": "code",
   "execution_count": 3,
   "id": "5221e4e4",
   "metadata": {},
   "outputs": [
    {
     "name": "stdout",
     "output_type": "stream",
     "text": [
      "Number of users: 610, Number of Movies: 9724, Min rating: 0.5, Max rating: 5.0\n"
     ]
    }
   ],
   "source": [
    "user_ids = df[\"userId\"].unique().tolist()\n",
    "user2user_encoded = {x: i for i, x in enumerate(user_ids)}\n",
    "userencoded2user = {i: x for i, x in enumerate(user_ids)}\n",
    "movie_ids = df[\"movieId\"].unique().tolist()\n",
    "movie2movie_encoded = {x: i for i, x in enumerate(movie_ids)}\n",
    "movie_encoded2movie = {i: x for i, x in enumerate(movie_ids)}\n",
    "df[\"user\"] = df[\"userId\"].map(user2user_encoded)\n",
    "df[\"movie\"] = df[\"movieId\"].map(movie2movie_encoded)\n",
    "\n",
    "num_users = len(user2user_encoded)\n",
    "num_movies = len(movie_encoded2movie)\n",
    "df[\"rating\"] = df[\"rating\"].values.astype(np.float32)\n",
    "# min and max ratings will be used to normalize the ratings later\n",
    "min_rating = min(df[\"rating\"])\n",
    "max_rating = max(df[\"rating\"])\n",
    "\n",
    "print(\n",
    "    \"Number of users: {}, Number of Movies: {}, Min rating: {}, Max rating: {}\".format(\n",
    "        num_users, num_movies, min_rating, max_rating\n",
    "    )\n",
    ")"
   ]
  },
  {
   "cell_type": "code",
   "execution_count": 4,
   "id": "a5206995",
   "metadata": {},
   "outputs": [],
   "source": [
    "df = df.sample(frac=1, random_state=42)\n",
    "x = df[[\"user\", \"movie\"]].values\n",
    "# Normalize the targets between 0 and 1. Makes it easy to train.\n",
    "y = df[\"rating\"].apply(lambda x: (x - min_rating) / (max_rating - min_rating)).values\n",
    "# Assuming training on 90% of the data and validating on 10%.\n",
    "train_indices = int(0.9 * df.shape[0])\n",
    "x_train, x_val, y_train, y_val = (\n",
    "    x[:train_indices],\n",
    "    x[train_indices:],\n",
    "    y[:train_indices],\n",
    "    y[train_indices:],\n",
    ")"
   ]
  },
  {
   "cell_type": "code",
   "execution_count": 157,
   "id": "17abf4b9",
   "metadata": {},
   "outputs": [
    {
     "data": {
      "text/plain": [
       "(90752, 2)"
      ]
     },
     "execution_count": 157,
     "metadata": {},
     "output_type": "execute_result"
    }
   ],
   "source": [
    "x_train.shape"
   ]
  },
  {
   "cell_type": "code",
   "execution_count": 68,
   "id": "90ce204f",
   "metadata": {},
   "outputs": [],
   "source": [
    "EMBEDDING_SIZE = 50\n",
    "model = Sequential([\n",
    "        layers.Embedding(\n",
    "        num_movies,\n",
    "        EMBEDDING_SIZE,\n",
    "        embeddings_initializer=\"he_normal\",\n",
    "        embeddings_regularizer=tf.keras.regularizers.l2(1e-6),\n",
    "        input_length=2\n",
    "    ),\n",
    "    layers.Flatten(),\n",
    "    layers.Dense(1),\n",
    "    layers.Activation('sigmoid')\n",
    "])\n",
    "\n",
    "model.compile(\n",
    "    loss=tf.keras.losses.BinaryCrossentropy(),\n",
    "    optimizer=tf.keras.optimizers.Adam(learning_rate=0.001),\n",
    ")"
   ]
  },
  {
   "cell_type": "code",
   "execution_count": 69,
   "id": "162d33a1",
   "metadata": {},
   "outputs": [
    {
     "name": "stdout",
     "output_type": "stream",
     "text": [
      "Epoch 1/5\n",
      "1418/1418 [==============================] - 17s 11ms/step - loss: 0.6087 - val_loss: 0.6026\n",
      "Epoch 2/5\n",
      "1418/1418 [==============================] - 16s 11ms/step - loss: 0.5948 - val_loss: 0.6031\n",
      "Epoch 3/5\n",
      "1418/1418 [==============================] - 16s 11ms/step - loss: 0.5924 - val_loss: 0.6027\n",
      "Epoch 4/5\n",
      "1418/1418 [==============================] - 15s 11ms/step - loss: 0.5914 - val_loss: 0.6030\n",
      "Epoch 5/5\n",
      "1418/1418 [==============================] - 15s 11ms/step - loss: 0.5909 - val_loss: 0.6030\n"
     ]
    }
   ],
   "source": [
    "history = model.fit(\n",
    "    x=x_train,\n",
    "    y=y_train,\n",
    "    batch_size=64,\n",
    "    epochs=5,\n",
    "    verbose=1,\n",
    "    validation_data=(x_val, y_val),\n",
    ")"
   ]
  },
  {
   "cell_type": "code",
   "execution_count": 67,
   "id": "8272a587",
   "metadata": {},
   "outputs": [
    {
     "name": "stdout",
     "output_type": "stream",
     "text": [
      "262/262 [==============================] - 0s 2ms/step\n"
     ]
    },
    {
     "data": {
      "text/plain": [
       "(8378,)"
      ]
     },
     "execution_count": 67,
     "metadata": {},
     "output_type": "execute_result"
    }
   ],
   "source": [
    "ratings = model.predict(user_movie_array).flatten()\n",
    "ratings.shape"
   ]
  },
  {
   "cell_type": "code",
   "execution_count": 82,
   "id": "f98641db",
   "metadata": {},
   "outputs": [
    {
     "name": "stdout",
     "output_type": "stream",
     "text": [
      "Similarity matrix for user with id: 380\n"
     ]
    },
    {
     "data": {
      "text/html": [
       "<div>\n",
       "<style scoped>\n",
       "    .dataframe tbody tr th:only-of-type {\n",
       "        vertical-align: middle;\n",
       "    }\n",
       "\n",
       "    .dataframe tbody tr th {\n",
       "        vertical-align: top;\n",
       "    }\n",
       "\n",
       "    .dataframe thead th {\n",
       "        text-align: right;\n",
       "    }\n",
       "</style>\n",
       "<table border=\"1\" class=\"dataframe\">\n",
       "  <thead>\n",
       "    <tr style=\"text-align: right;\">\n",
       "      <th></th>\n",
       "      <th>Similarity</th>\n",
       "    </tr>\n",
       "  </thead>\n",
       "  <tbody>\n",
       "    <tr>\n",
       "      <th>5980</th>\n",
       "      <td>0.911473</td>\n",
       "    </tr>\n",
       "    <tr>\n",
       "      <th>4319</th>\n",
       "      <td>0.901306</td>\n",
       "    </tr>\n",
       "    <tr>\n",
       "      <th>7522</th>\n",
       "      <td>0.893864</td>\n",
       "    </tr>\n",
       "    <tr>\n",
       "      <th>7589</th>\n",
       "      <td>0.888151</td>\n",
       "    </tr>\n",
       "    <tr>\n",
       "      <th>4526</th>\n",
       "      <td>0.885160</td>\n",
       "    </tr>\n",
       "    <tr>\n",
       "      <th>...</th>\n",
       "      <td>...</td>\n",
       "    </tr>\n",
       "    <tr>\n",
       "      <th>3670</th>\n",
       "      <td>0.198182</td>\n",
       "    </tr>\n",
       "    <tr>\n",
       "      <th>2784</th>\n",
       "      <td>0.197715</td>\n",
       "    </tr>\n",
       "    <tr>\n",
       "      <th>6112</th>\n",
       "      <td>0.192980</td>\n",
       "    </tr>\n",
       "    <tr>\n",
       "      <th>7826</th>\n",
       "      <td>0.175570</td>\n",
       "    </tr>\n",
       "    <tr>\n",
       "      <th>2641</th>\n",
       "      <td>0.171875</td>\n",
       "    </tr>\n",
       "  </tbody>\n",
       "</table>\n",
       "<p>8378 rows × 1 columns</p>\n",
       "</div>"
      ],
      "text/plain": [
       "      Similarity\n",
       "5980    0.911473\n",
       "4319    0.901306\n",
       "7522    0.893864\n",
       "7589    0.888151\n",
       "4526    0.885160\n",
       "...          ...\n",
       "3670    0.198182\n",
       "2784    0.197715\n",
       "6112    0.192980\n",
       "7826    0.175570\n",
       "2641    0.171875\n",
       "\n",
       "[8378 rows x 1 columns]"
      ]
     },
     "execution_count": 82,
     "metadata": {},
     "output_type": "execute_result"
    }
   ],
   "source": [
    "user_id = df.userId.sample(1).iloc[0]\n",
    "\n",
    "ratings_pd = pd.DataFrame(index = range(len(ratings)),columns=['Similarity'])\n",
    "\n",
    "ratings_pd['Similarity'] = ratings \n",
    "\n",
    "ratings_pd = ratings_pd.sort_values(by=\"Similarity\",ascending=False)\n",
    "\n",
    "print('Similarity matrix for user with id: ' + str(user_id))\n",
    "ratings_pd"
   ]
  },
  {
   "cell_type": "code",
   "execution_count": 91,
   "id": "55b6240d",
   "metadata": {},
   "outputs": [
    {
     "name": "stdout",
     "output_type": "stream",
     "text": [
      "10 similar users for user with id: 380\n",
      "[298, 608, 555, 256, 62, 554, 379, 606, 573, 66]\n"
     ]
    }
   ],
   "source": [
    "n = 10\n",
    "similar_users = []\n",
    "for row in ratings_pd.iterrows(): \n",
    "    curr_user_id = int(df.iloc[row[0]]['userId'])\n",
    "    if(curr_user_id != user_id and curr_user_id not in similar_users):\n",
    "        similar_users.append(curr_user_id)\n",
    "    if(len(similar_users) == n):\n",
    "        break\n",
    "print(str(n) + ' similar users for user with id: ' + str(user_id))\n",
    "print(str(similar_users))"
   ]
  },
  {
   "cell_type": "code",
   "execution_count": 38,
   "id": "60989d30",
   "metadata": {},
   "outputs": [
    {
     "data": {
      "image/png": "[encoded data removed]",
      "text/plain": [
       "<Figure size 640x480 with 1 Axes>"
      ]
     },
     "metadata": {},
     "output_type": "display_data"
    }
   ],
   "source": [
    "plt.plot(history.history[\"loss\"])\n",
    "plt.plot(history.history[\"val_loss\"])\n",
    "plt.title(\"model loss\")\n",
    "plt.ylabel(\"loss\")\n",
    "plt.xlabel(\"epoch\")\n",
    "plt.legend([\"train\", \"test\"], loc=\"upper left\")\n",
    "plt.show()"
   ]
  },
  {
   "cell_type": "code",
   "execution_count": 37,
   "id": "3a24629f",
   "metadata": {},
   "outputs": [
    {
     "name": "stdout",
     "output_type": "stream",
     "text": [
      "262/262 [==============================] - 0s 2ms/step\n",
      "Showing recommendations for user: 274\n",
      "====================================\n",
      "Movies with high ratings from user\n",
      "--------------------------------\n",
      "Pulp Fiction (1994) : Comedy|Crime|Drama|Thriller\n",
      "American Beauty (1999) : Drama|Romance\n",
      "Fight Club (1999) : Action|Crime|Drama|Thriller\n",
      "Eternal Sunshine of the Spotless Mind (2004) : Drama|Romance|Sci-Fi\n",
      "Inglourious Basterds (2009) : Action|Drama|War\n",
      "--------------------------------\n",
      "Top 10 movie recommendations\n",
      "--------------------------------\n",
      "Guess Who's Coming to Dinner (1967) : Drama\n",
      "Trial, The (Procès, Le) (1962) : Drama\n",
      "Come and See (Idi i smotri) (1985) : Drama|War\n",
      "Adam's Rib (1949) : Comedy|Romance\n",
      "Bad Boy Bubby (1993) : Drama\n",
      "Neon Genesis Evangelion: The End of Evangelion (Shin seiki Evangelion Gekijô-ban: Air/Magokoro wo, kimi ni) (1997) : Action|Animation|Drama|Fantasy|Sci-Fi\n",
      "Memories of Murder (Salinui chueok) (2003) : Crime|Drama|Mystery|Thriller\n",
      "Day of the Doctor, The (2013) : Adventure|Drama|Sci-Fi\n",
      "Band of Brothers (2001) : Action|Drama|War\n",
      "Three Billboards Outside Ebbing, Missouri (2017) : Crime|Drama\n"
     ]
    }
   ],
   "source": [
    "movie_df = pd.read_csv(movielens_dir / \"movies.csv\")\n",
    "\n",
    "# Let us get a user and see the top recommendations.\n",
    "movies_watched_by_user = df[df.userId == user_id]\n",
    "movies_not_watched = movie_df[\n",
    "    ~movie_df[\"movieId\"].isin(movies_watched_by_user.movieId.values)\n",
    "][\"movieId\"]\n",
    "movies_not_watched = list(\n",
    "    set(movies_not_watched).intersection(set(movie2movie_encoded.keys()))\n",
    ")\n",
    "movies_not_watched = [[movie2movie_encoded.get(x)] for x in movies_not_watched]\n",
    "user_encoder = user2user_encoded.get(user_id)\n",
    "user_movie_array = np.hstack(\n",
    "    ([[user_encoder]] * len(movies_not_watched), movies_not_watched)\n",
    ")\n",
    "ratings = model.predict(user_movie_array).flatten()\n",
    "top_ratings_indices = ratings.argsort()[-10:][::-1]\n",
    "recommended_movie_ids = [\n",
    "    movie_encoded2movie.get(movies_not_watched[x][0]) for x in top_ratings_indices\n",
    "]\n",
    "\n",
    "print(\"Showing recommendations for user: {}\".format(user_id))\n",
    "print(\"====\" * 9)\n",
    "print(\"Movies with high ratings from user\")\n",
    "print(\"----\" * 8)\n",
    "top_movies_user = (\n",
    "    movies_watched_by_user.sort_values(by=\"rating\", ascending=False)\n",
    "    .head(5)\n",
    "    .movieId.values\n",
    ")\n",
    "movie_df_rows = movie_df[movie_df[\"movieId\"].isin(top_movies_user)]\n",
    "for row in movie_df_rows.itertuples():\n",
    "    print(row.title, \":\", row.genres)\n",
    "\n",
    "print(\"----\" * 8)\n",
    "print(\"Top 10 movie recommendations\")\n",
    "print(\"----\" * 8)\n",
    "recommended_movies = movie_df[movie_df[\"movieId\"].isin(recommended_movie_ids)]\n",
    "for row in recommended_movies.itertuples():\n",
    "    print(row.title, \":\", row.genres)"
   ]
  },
  {
   "cell_type": "code",
   "execution_count": 154,
   "id": "64478ef0",
   "metadata": {},
   "outputs": [
    {
     "name": "stdout",
     "output_type": "stream",
     "text": [
      "10.115582039606025(374,)\n",
      "8.65659044912953(424,)\n",
      "5.388938582403121(183,)\n",
      "3.903702583220232(107,)\n",
      "5.33763714187486(226,)\n",
      "2.9847552184706014(41,)\n",
      "2.7746126796090045(25,)\n",
      "5.7164203193922765(238,)\n",
      "4.939295702014532(223,)\n",
      "4.0919346976951445(149,)\n"
     ]
    }
   ],
   "source": [
    "rmse = 0\n",
    "\n",
    "for similar_user_id in similar_users:\n",
    "    df_user = movies_watched_by_user[['movieId', 'rating']]\n",
    "    movies_watched_by_similar_user = df[df.userId == similar_user_id]\n",
    "    df_similar_user = movies_watched_by_similar_user[['movieId', 'rating']]  \n",
    "    corresponding_movie_ids = df_similar_user[df_similar_user.movieId.isin(df_user.movieId)]['movieId']\n",
    "    for movie_id in corresponding_movie_ids:\n",
    "        rmse += math.pow(df_user[df_user.movieId == movie_id].iloc[0]['rating'] - \n",
    "                         df_similar_user[df_similar_user.movieId == movie_id].iloc[0]['rating'],2)\n",
    "    rmse = math.sqrt(rmse*1/n)\n",
    "    print(str(rmse) + str(corresponding_movie_ids.shape))"
   ]
  },
  {
   "cell_type": "code",
   "execution_count": 137,
   "id": "b82b834a",
   "metadata": {},
   "outputs": [
    {
     "data": {
      "text/html": [
       "<div>\n",
       "<style scoped>\n",
       "    .dataframe tbody tr th:only-of-type {\n",
       "        vertical-align: middle;\n",
       "    }\n",
       "\n",
       "    .dataframe tbody tr th {\n",
       "        vertical-align: top;\n",
       "    }\n",
       "\n",
       "    .dataframe thead th {\n",
       "        text-align: right;\n",
       "    }\n",
       "</style>\n",
       "<table border=\"1\" class=\"dataframe\">\n",
       "  <thead>\n",
       "    <tr style=\"text-align: right;\">\n",
       "      <th></th>\n",
       "      <th>movieId</th>\n",
       "      <th>rating</th>\n",
       "    </tr>\n",
       "  </thead>\n",
       "  <tbody>\n",
       "    <tr>\n",
       "      <th>45249</th>\n",
       "      <td>77561</td>\n",
       "      <td>3.5</td>\n",
       "    </tr>\n",
       "    <tr>\n",
       "      <th>45079</th>\n",
       "      <td>48780</td>\n",
       "      <td>2.0</td>\n",
       "    </tr>\n",
       "    <tr>\n",
       "      <th>45390</th>\n",
       "      <td>106489</td>\n",
       "      <td>3.5</td>\n",
       "    </tr>\n",
       "    <tr>\n",
       "      <th>44915</th>\n",
       "      <td>6503</td>\n",
       "      <td>1.0</td>\n",
       "    </tr>\n",
       "    <tr>\n",
       "      <th>45351</th>\n",
       "      <td>96737</td>\n",
       "      <td>3.0</td>\n",
       "    </tr>\n",
       "    <tr>\n",
       "      <th>...</th>\n",
       "      <td>...</td>\n",
       "      <td>...</td>\n",
       "    </tr>\n",
       "    <tr>\n",
       "      <th>45272</th>\n",
       "      <td>81834</td>\n",
       "      <td>3.0</td>\n",
       "    </tr>\n",
       "    <tr>\n",
       "      <th>44859</th>\n",
       "      <td>5419</td>\n",
       "      <td>1.0</td>\n",
       "    </tr>\n",
       "    <tr>\n",
       "      <th>44547</th>\n",
       "      <td>173</td>\n",
       "      <td>2.0</td>\n",
       "    </tr>\n",
       "    <tr>\n",
       "      <th>45002</th>\n",
       "      <td>8969</td>\n",
       "      <td>1.0</td>\n",
       "    </tr>\n",
       "    <tr>\n",
       "      <th>45106</th>\n",
       "      <td>53996</td>\n",
       "      <td>2.0</td>\n",
       "    </tr>\n",
       "  </tbody>\n",
       "</table>\n",
       "<p>374 rows × 2 columns</p>\n",
       "</div>"
      ],
      "text/plain": [
       "       movieId  rating\n",
       "45249    77561     3.5\n",
       "45079    48780     2.0\n",
       "45390   106489     3.5\n",
       "44915     6503     1.0\n",
       "45351    96737     3.0\n",
       "...        ...     ...\n",
       "45272    81834     3.0\n",
       "44859     5419     1.0\n",
       "44547      173     2.0\n",
       "45002     8969     1.0\n",
       "45106    53996     2.0\n",
       "\n",
       "[374 rows x 2 columns]"
      ]
     },
     "execution_count": 137,
     "metadata": {},
     "output_type": "execute_result"
    }
   ],
   "source": [
    "corresponding_movie_ids = df_similar_user[df_similar_user.movieId.isin(df_user.movieId)]\n",
    "corresponding_movie_ids"
   ]
  },
  {
   "cell_type": "code",
   "execution_count": null,
   "id": "8f3e9081",
   "metadata": {},
   "outputs": [],
   "source": []
  }
 ],
 "metadata": {
  "kernelspec": {
   "display_name": "Python 3 (ipykernel)",
   "language": "python",
   "name": "python3"
  },
  "language_info": {
   "codemirror_mode": {
    "name": "ipython",
    "version": 3
   },
   "file_extension": ".py",
   "mimetype": "text/x-python",
   "name": "python",
   "nbconvert_exporter": "python",
   "pygments_lexer": "ipython3",
   "version": "3.11.4"
  }
 },
 "nbformat": 4,
 "nbformat_minor": 5
}
